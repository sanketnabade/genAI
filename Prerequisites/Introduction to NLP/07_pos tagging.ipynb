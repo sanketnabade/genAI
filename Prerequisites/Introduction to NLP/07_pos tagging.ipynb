{
 "cells": [
  {
   "cell_type": "markdown",
   "id": "3c721929",
   "metadata": {},
   "source": [
    "## Part-of-speech (POS) tagging\n",
    "Part-of-speech (POS) tagging is the process of assigning a grammatical category, like a noun, verb, or adjective, to each word in a text. It's a crucial NLP step that helps us understand a sentence's structure and is especially useful for tasks like lemmatization, where knowing a word's type helps find its correct root form."
   ]
  },
  {
   "cell_type": "markdown",
   "id": "f1e1e7e8",
   "metadata": {},
   "source": [
    "### Using NLTK for POS Tagging\n",
    "\n",
    "To perform POS tagging, you'll use the `nltk.pos_tag()` function. This function takes a list of words as input and returns a list of tuples, where each tuple contains a word and its corresponding POS tag.\n",
    "\n",
    "**Note**: Before you start, you might need to download the necessary NLTK components."
   ]
  },
  {
   "cell_type": "code",
   "execution_count": 10,
   "id": "f043743d",
   "metadata": {},
   "outputs": [
    {
     "name": "stderr",
     "output_type": "stream",
     "text": [
      "[nltk_data] Downloading package averaged_perceptron_tagger to\n",
      "[nltk_data]     C:\\Users\\sai\\AppData\\Roaming\\nltk_data...\n",
      "[nltk_data]   Package averaged_perceptron_tagger is already up-to-\n",
      "[nltk_data]       date!\n"
     ]
    },
    {
     "data": {
      "text/plain": [
       "True"
      ]
     },
     "execution_count": 10,
     "metadata": {},
     "output_type": "execute_result"
    }
   ],
   "source": [
    "import nltk\n",
    "nltk.download('averaged_perceptron_tagger')\n"
   ]
  },
  {
   "cell_type": "markdown",
   "id": "3f753542",
   "metadata": {},
   "source": [
    "#### Step 1: Tokenize the Text\n",
    "\n",
    "First, break the text into a list of words using `nltk.word_tokenize()`."
   ]
  },
  {
   "cell_type": "code",
   "execution_count": 11,
   "id": "1661d257",
   "metadata": {},
   "outputs": [
    {
     "name": "stdout",
     "output_type": "stream",
     "text": [
      "['Taj', 'Mahal', 'is', 'a', 'beautiful', 'monument', '.']\n"
     ]
    }
   ],
   "source": [
    "sentence = \"Taj Mahal is a beautiful monument.\"\n",
    "words = nltk.word_tokenize(sentence)\n",
    "\n",
    "print(words)"
   ]
  },
  {
   "cell_type": "markdown",
   "id": "cbf8afa9",
   "metadata": {},
   "source": [
    "#### Step 2: Apply the POS Tagger\n",
    "\n",
    "Next, pass the list of words to the `nltk.pos_tag()` function.\n",
    "\n",
    "`nltk.pos_tag() ` accepts the list of words"
   ]
  },
  {
   "cell_type": "code",
   "execution_count": 18,
   "id": "9fe51c81",
   "metadata": {},
   "outputs": [
    {
     "name": "stdout",
     "output_type": "stream",
     "text": [
      "[('Taj', 'NNP'), ('Mahal', 'NNP'), ('is', 'VBZ'), ('a', 'DT'), ('beautiful', 'JJ'), ('monument', 'NN'), ('.', '.')]\n"
     ]
    }
   ],
   "source": [
    "# nltk.download('averaged_perceptron_tagger_eng')\n",
    "pos_tags = nltk.pos_tag(words)\n",
    "print(pos_tags)"
   ]
  },
  {
   "cell_type": "markdown",
   "id": "70f41f44",
   "metadata": {},
   "source": [
    "`[('Taj', 'NNP'), ('Mahal', 'NNP'), ('is', 'VBZ'), ('a', 'DT'), ('beautiful', 'JJ'), ('monument', 'NN'), ('.', '.')]`\n",
    "\n",
    "This output shows each word correctly tagged: 'Taj' and 'Mahal' as **Proper Nouns** (NNP), 'is' as a **Verb** (VBZ), 'a' as a **Determiner** (DT), 'beautiful' as an **Adjective** (JJ), and 'monument' as a **Noun** (NN)."
   ]
  },
  {
   "cell_type": "markdown",
   "id": "58b6d33e",
   "metadata": {},
   "source": [
    "#### Example with paragraph"
   ]
  },
  {
   "cell_type": "code",
   "execution_count": 19,
   "id": "f8ce816f",
   "metadata": {},
   "outputs": [],
   "source": [
    "## Speech Of DR APJ Abdul Kalam\n",
    "paragraph = \"\"\"I have three visions for India. In 3000 years of our history, people from all over \n",
    "               the world have come and invaded us, captured our lands, conquered our minds. \n",
    "               From Alexander onwards, the Greeks, the Turks, the Moguls, the Portuguese, the British,\n",
    "               the French, the Dutch, all of them came and looted us, took over what was ours. \n",
    "               Yet we have not done this to any other nation. We have not conquered anyone. \n",
    "               We have not grabbed their land, their culture, \n",
    "               their history and tried to enforce our way of life on them. \n",
    "               Why? Because we respect the freedom of others.That is why my \n",
    "               first vision is that of freedom. I believe that India got its first vision of \n",
    "               this in 1857, when we started the War of Independence. It is this freedom that\n",
    "               we must protect and nurture and build on. If we are not free, no one will respect us.\n",
    "               My second vision for India’s development. For fifty years we have been a developing nation.\n",
    "               It is time we see ourselves as a developed nation. We are among the top 5 nations of the world\n",
    "               in terms of GDP. We have a 10 percent growth rate in most areas. Our poverty levels are falling.\n",
    "               Our achievements are being globally recognised today. Yet we lack the self-confidence to\n",
    "               see ourselves as a developed nation, self-reliant and self-assured. Isn’t this incorrect?\n",
    "               I have a third vision. India must stand up to the world. Because I believe that unless India \n",
    "               stands up to the world, no one will respect us. Only strength respects strength. We must be \n",
    "               strong not only as a military power but also as an economic power. Both must go hand-in-hand. \n",
    "               My good fortune was to have worked with three great minds. Dr. Vikram Sarabhai of the Dept. of \n",
    "               space, Professor Satish Dhawan, who succeeded him and Dr. Brahm Prakash, father of nuclear material.\n",
    "               I was lucky to have worked with all three of them closely and consider this the great opportunity of my life. \n",
    "               I see four milestones in my career\"\"\""
   ]
  },
  {
   "cell_type": "code",
   "execution_count": 20,
   "id": "bf667fde",
   "metadata": {},
   "outputs": [],
   "source": [
    "import nltk\n",
    "sentences=nltk.sent_tokenize(paragraph)"
   ]
  },
  {
   "cell_type": "code",
   "execution_count": 23,
   "id": "f4bcbaf6",
   "metadata": {},
   "outputs": [
    {
     "name": "stdout",
     "output_type": "stream",
     "text": [
      "[('I', 'PRP'), ('have', 'VBP'), ('three', 'CD'), ('visions', 'NNS'), ('for', 'IN'), ('India.', 'NNP')]\n",
      "[('In', 'IN'), ('3000', 'CD'), ('years', 'NNS'), ('of', 'IN'), ('our', 'PRP$'), ('history,', 'JJ'), ('people', 'NNS'), ('from', 'IN'), ('all', 'DT'), ('over', 'IN'), ('the', 'DT'), ('world', 'NN'), ('have', 'VBP'), ('come', 'VBN'), ('and', 'CC'), ('invaded', 'VBN'), ('us,', 'NN'), ('captured', 'VBD'), ('our', 'PRP$'), ('lands,', 'NN'), ('conquered', 'VBD'), ('our', 'PRP$'), ('minds.', 'NN')]\n",
      "[('From', 'IN'), ('Alexander', 'NNP'), ('onwards,', 'VBD'), ('the', 'DT'), ('Greeks,', 'NNP'), ('the', 'DT'), ('Turks,', 'NNP'), ('the', 'DT'), ('Moguls,', 'NNP'), ('the', 'DT'), ('Portuguese,', 'NNP'), ('the', 'DT'), ('British,', 'NNP'), ('the', 'DT'), ('French,', 'NNP'), ('the', 'DT'), ('Dutch,', 'NNP'), ('all', 'DT'), ('of', 'IN'), ('them', 'PRP'), ('came', 'VBD'), ('and', 'CC'), ('looted', 'VBD'), ('us,', 'JJ'), ('took', 'VBD'), ('over', 'RP'), ('what', 'WP'), ('was', 'VBD'), ('ours.', 'JJ')]\n",
      "[('Yet', 'RB'), ('we', 'PRP'), ('have', 'VBP'), ('not', 'RB'), ('done', 'VBN'), ('this', 'DT'), ('to', 'TO'), ('any', 'DT'), ('other', 'JJ'), ('nation.', 'NN')]\n",
      "[('We', 'PRP'), ('have', 'VBP'), ('not', 'RB'), ('conquered', 'VBN'), ('anyone.', 'NN')]\n",
      "[('We', 'PRP'), ('have', 'VBP'), ('not', 'RB'), ('grabbed', 'VBN'), ('their', 'PRP$'), ('land,', 'NNS'), ('their', 'PRP$'), ('culture,', 'VBP'), ('their', 'PRP$'), ('history', 'NN'), ('and', 'CC'), ('tried', 'VBD'), ('to', 'TO'), ('enforce', 'VB'), ('our', 'PRP$'), ('way', 'NN'), ('of', 'IN'), ('life', 'NN'), ('on', 'IN'), ('them.', 'NN')]\n",
      "[('Why?', 'NN')]\n",
      "[('Because', 'IN'), ('we', 'PRP'), ('respect', 'VBP'), ('the', 'DT'), ('freedom', 'NN'), ('of', 'IN'), ('others.That', 'WP'), ('is', 'VBZ'), ('why', 'WRB'), ('my', 'PRP$'), ('first', 'JJ'), ('vision', 'NN'), ('is', 'VBZ'), ('that', 'IN'), ('of', 'IN'), ('freedom.', 'NN')]\n",
      "[('I', 'PRP'), ('believe', 'VBP'), ('that', 'IN'), ('India', 'NNP'), ('got', 'VBD'), ('its', 'PRP$'), ('first', 'JJ'), ('vision', 'NN'), ('of', 'IN'), ('this', 'DT'), ('in', 'IN'), ('1857,', 'CD'), ('when', 'WRB'), ('we', 'PRP'), ('started', 'VBD'), ('the', 'DT'), ('War', 'NNP'), ('of', 'IN'), ('Independence.', 'NNP')]\n",
      "[('It', 'PRP'), ('is', 'VBZ'), ('this', 'DT'), ('freedom', 'NN'), ('that', 'IN'), ('we', 'PRP'), ('must', 'MD'), ('protect', 'VB'), ('and', 'CC'), ('nurture', 'NN'), ('and', 'CC'), ('build', 'VB'), ('on.', 'NN')]\n",
      "[('If', 'IN'), ('we', 'PRP'), ('are', 'VBP'), ('not', 'RB'), ('free,', 'JJ'), ('no', 'DT'), ('one', 'NN'), ('will', 'MD'), ('respect', 'VB'), ('us.', 'JJ')]\n",
      "[('My', 'PRP$'), ('second', 'JJ'), ('vision', 'NN'), ('for', 'IN'), ('India’s', 'NNP'), ('development.', 'NN')]\n",
      "[('For', 'IN'), ('fifty', 'JJ'), ('years', 'NNS'), ('we', 'PRP'), ('have', 'VBP'), ('been', 'VBN'), ('a', 'DT'), ('developing', 'VBG'), ('nation.', 'NN')]\n",
      "[('It', 'PRP'), ('is', 'VBZ'), ('time', 'NN'), ('we', 'PRP'), ('see', 'VBP'), ('ourselves', 'PRP'), ('as', 'IN'), ('a', 'DT'), ('developed', 'JJ'), ('nation.', 'NN')]\n",
      "[('We', 'PRP'), ('are', 'VBP'), ('among', 'IN'), ('the', 'DT'), ('top', 'JJ'), ('5', 'CD'), ('nations', 'NNS'), ('of', 'IN'), ('the', 'DT'), ('world', 'NN'), ('in', 'IN'), ('terms', 'NNS'), ('of', 'IN'), ('GDP.', 'NNP')]\n",
      "[('We', 'PRP'), ('have', 'VBP'), ('a', 'DT'), ('10', 'CD'), ('percent', 'NN'), ('growth', 'NN'), ('rate', 'NN'), ('in', 'IN'), ('most', 'JJS'), ('areas.', 'NNS')]\n",
      "[('Our', 'PRP$'), ('poverty', 'NN'), ('levels', 'NNS'), ('are', 'VBP'), ('falling.', 'JJ')]\n",
      "[('Our', 'PRP$'), ('achievements', 'NNS'), ('are', 'VBP'), ('being', 'VBG'), ('globally', 'RB'), ('recognised', 'VBN'), ('today.', 'NN')]\n",
      "[('Yet', 'CC'), ('we', 'PRP'), ('lack', 'VBP'), ('the', 'DT'), ('self-confidence', 'NN'), ('to', 'TO'), ('see', 'VB'), ('ourselves', 'PRP'), ('as', 'IN'), ('a', 'DT'), ('developed', 'JJ'), ('nation,', 'JJ'), ('self-reliant', 'JJ'), ('and', 'CC'), ('self-assured.', 'JJ')]\n",
      "[('Isn’t', 'NNP'), ('this', 'DT'), ('incorrect?', 'NN')]\n",
      "[('I', 'PRP'), ('have', 'VBP'), ('a', 'DT'), ('third', 'JJ'), ('vision.', 'NN')]\n",
      "[('India', 'NNP'), ('must', 'MD'), ('stand', 'VB'), ('up', 'RP'), ('to', 'TO'), ('the', 'DT'), ('world.', 'NN')]\n",
      "[('Because', 'IN'), ('I', 'PRP'), ('believe', 'VBP'), ('that', 'IN'), ('unless', 'IN'), ('India', 'NNP'), ('stands', 'VBZ'), ('up', 'RP'), ('to', 'TO'), ('the', 'DT'), ('world,', 'NN'), ('no', 'DT'), ('one', 'NN'), ('will', 'MD'), ('respect', 'VB'), ('us.', 'JJ')]\n",
      "[('Only', 'RB'), ('strength', 'NN'), ('respects', 'NNS'), ('strength.', 'VBP')]\n",
      "[('We', 'PRP'), ('must', 'MD'), ('be', 'VB'), ('strong', 'JJ'), ('not', 'RB'), ('only', 'RB'), ('as', 'IN'), ('a', 'DT'), ('military', 'JJ'), ('power', 'NN'), ('but', 'CC'), ('also', 'RB'), ('as', 'IN'), ('an', 'DT'), ('economic', 'JJ'), ('power.', 'NN')]\n",
      "[('Both', 'DT'), ('must', 'MD'), ('go', 'VB'), ('hand-in-hand.', 'JJ')]\n",
      "[('My', 'PRP$'), ('good', 'JJ'), ('fortune', 'NN'), ('was', 'VBD'), ('to', 'TO'), ('have', 'VB'), ('worked', 'VBN'), ('with', 'IN'), ('three', 'CD'), ('great', 'JJ'), ('minds.', 'NN')]\n",
      "[('Dr.', 'NNP'), ('Vikram', 'NNP'), ('Sarabhai', 'NNP'), ('of', 'IN'), ('the', 'DT'), ('Dept.', 'NNP')]\n",
      "[('of', 'IN'), ('space,', 'NN'), ('Professor', 'NNP'), ('Satish', 'NNP'), ('Dhawan,', 'NNP'), ('who', 'WP'), ('succeeded', 'VBD'), ('him', 'PRP'), ('and', 'CC'), ('Dr.', 'NNP'), ('Brahm', 'NNP'), ('Prakash,', 'NNP'), ('father', 'NN'), ('of', 'IN'), ('nuclear', 'JJ'), ('material.', 'NN')]\n",
      "[('I', 'PRP'), ('was', 'VBD'), ('lucky', 'JJ'), ('to', 'TO'), ('have', 'VB'), ('worked', 'VBN'), ('with', 'IN'), ('all', 'DT'), ('three', 'CD'), ('of', 'IN'), ('them', 'PRP'), ('closely', 'RB'), ('and', 'CC'), ('consider', 'VB'), ('this', 'DT'), ('the', 'DT'), ('great', 'JJ'), ('opportunity', 'NN'), ('of', 'IN'), ('my', 'PRP$'), ('life.', 'NN')]\n",
      "[('I', 'PRP'), ('see', 'VBP'), ('four', 'CD'), ('milestones', 'NNS'), ('in', 'IN'), ('my', 'PRP$'), ('career', 'NN')]\n"
     ]
    }
   ],
   "source": [
    "for sentence in sentences:\n",
    "    pos_tag=nltk.pos_tag(sentence.split())\n",
    "    print(pos_tag)"
   ]
  }
 ],
 "metadata": {
  "kernelspec": {
   "display_name": "base",
   "language": "python",
   "name": "python3"
  },
  "language_info": {
   "codemirror_mode": {
    "name": "ipython",
    "version": 3
   },
   "file_extension": ".py",
   "mimetype": "text/x-python",
   "name": "python",
   "nbconvert_exporter": "python",
   "pygments_lexer": "ipython3",
   "version": "3.12.7"
  }
 },
 "nbformat": 4,
 "nbformat_minor": 5
}
