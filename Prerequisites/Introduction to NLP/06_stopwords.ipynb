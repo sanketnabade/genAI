{
 "cells": [
  {
   "cell_type": "markdown",
   "id": "c30bd7d2",
   "metadata": {},
   "source": [
    "### 1\\. Stopwords\n",
    "\n",
    "**Stopwords** are very common words like 'the', 'is', 'a', and 'and' that generally don't carry significant meaning in tasks like sentiment analysis or text classification. Removing them reduces the size of the vocabulary, speeds up processing, and helps the model focus on more important words."
   ]
  },
  {
   "cell_type": "markdown",
   "id": "a0265dc0",
   "metadata": {},
   "source": [
    "#### Using NLTK for Stopword Removal\n",
    "\n",
    "NLTK provides a list of stopwords for many languages. You can access the English stopwords list from the `nltk.corpus` module."
   ]
  },
  {
   "cell_type": "code",
   "execution_count": 3,
   "id": "3712776a",
   "metadata": {},
   "outputs": [],
   "source": [
    "## Speech Of DR APJ Abdul Kalam\n",
    "paragraph = \"\"\"I have three visions for India. In 3000 years of our history, people from all over \n",
    "               the world have come and invaded us, captured our lands, conquered our minds. \n",
    "               From Alexander onwards, the Greeks, the Turks, the Moguls, the Portuguese, the British,\n",
    "               the French, the Dutch, all of them came and looted us, took over what was ours. \n",
    "               Yet we have not done this to any other nation. We have not conquered anyone. \n",
    "               We have not grabbed their land, their culture, \n",
    "               their history and tried to enforce our way of life on them. \n",
    "               Why? Because we respect the freedom of others.That is why my \n",
    "               first vision is that of freedom. I believe that India got its first vision of \n",
    "               this in 1857, when we started the War of Independence. It is this freedom that\n",
    "               we must protect and nurture and build on. If we are not free, no one will respect us.\n",
    "               My second vision for India’s development. For fifty years we have been a developing nation.\n",
    "               It is time we see ourselves as a developed nation. We are among the top 5 nations of the world\n",
    "               in terms of GDP. We have a 10 percent growth rate in most areas. Our poverty levels are falling.\n",
    "               Our achievements are being globally recognised today. Yet we lack the self-confidence to\n",
    "               see ourselves as a developed nation, self-reliant and self-assured. Isn’t this incorrect?\n",
    "               I have a third vision. India must stand up to the world. Because I believe that unless India \n",
    "               stands up to the world, no one will respect us. Only strength respects strength. We must be \n",
    "               strong not only as a military power but also as an economic power. Both must go hand-in-hand. \n",
    "               My good fortune was to have worked with three great minds. Dr. Vikram Sarabhai of the Dept. of \n",
    "               space, Professor Satish Dhawan, who succeeded him and Dr. Brahm Prakash, father of nuclear material.\n",
    "               I was lucky to have worked with all three of them closely and consider this the great opportunity of my life. \n",
    "               I see four milestones in my career\"\"\""
   ]
  },
  {
   "cell_type": "code",
   "execution_count": 7,
   "id": "9eb98bef",
   "metadata": {},
   "outputs": [
    {
     "name": "stderr",
     "output_type": "stream",
     "text": [
      "[nltk_data] Downloading package stopwords to\n",
      "[nltk_data]     C:\\Users\\sai\\AppData\\Roaming\\nltk_data...\n",
      "[nltk_data]   Package stopwords is already up-to-date!\n"
     ]
    },
    {
     "data": {
      "text/plain": [
       "True"
      ]
     },
     "execution_count": 7,
     "metadata": {},
     "output_type": "execute_result"
    }
   ],
   "source": [
    "import nltk\n",
    "from nltk.corpus import stopwords\n",
    "\n",
    "nltk.download('stopwords')\n"
   ]
  },
  {
   "cell_type": "code",
   "execution_count": 8,
   "id": "72a5d0fa",
   "metadata": {},
   "outputs": [
    {
     "name": "stdout",
     "output_type": "stream",
     "text": [
      "<class 'list'>\n",
      "['a', 'about', 'above', 'after', 'again', 'against', 'ain', 'all', 'am', 'an']\n"
     ]
    }
   ],
   "source": [
    "print(type(stopwords.words('english')))\n",
    "print(stopwords.words('english')[:10])"
   ]
  },
  {
   "cell_type": "markdown",
   "id": "96eb84f0",
   "metadata": {},
   "source": [
    "### 2\\. Stemming\n",
    "\n",
    "**Stemming** is the process of reducing a word to its base or **root form** by removing suffixes. The resulting \"stem\" may not always be a grammatically correct word, but it helps group words with similar meanings together. For example, \"running,\" \"runs,\" and \"ran\" might all be stemmed to \"run.\" Stemming is a faster but less precise method compared to lemmatization."
   ]
  },
  {
   "cell_type": "code",
   "execution_count": 12,
   "id": "84c129e8",
   "metadata": {},
   "outputs": [
    {
     "data": {
      "text/plain": [
       "31"
      ]
     },
     "execution_count": 12,
     "metadata": {},
     "output_type": "execute_result"
    }
   ],
   "source": [
    "from nltk.tokenize import sent_tokenize\n",
    "\n",
    "sentences=sent_tokenize(paragraph)\n",
    "len(sentences)"
   ]
  },
  {
   "cell_type": "code",
   "execution_count": null,
   "id": "2dcc0373",
   "metadata": {},
   "outputs": [],
   "source": [
    "from nltk.stem import PorterStemmer\n",
    "from nltk.tokenize import word_tokenize\n",
    "\n",
    "\n",
    "stemmer=PorterStemmer()\n",
    "\n",
    "for i in range(len(sentences)):\n",
    "    words=word_tokenize(sentences[i].lower())\n",
    "    words=[stemmer.stem(word) for word in words if word not in stopwords.words('english')]\n",
    "    sentences[i]=' '.join(words)\n",
    "\n",
    "sentences\n"
   ]
  },
  {
   "cell_type": "markdown",
   "id": "223513f6",
   "metadata": {},
   "source": [
    "##### With snowball stemmer"
   ]
  },
  {
   "cell_type": "code",
   "execution_count": null,
   "id": "6fe2b6b4",
   "metadata": {},
   "outputs": [],
   "source": [
    "from nltk.stem import SnowballStemmer\n",
    "from nltk.tokenize import word_tokenize\n",
    "\n",
    "\n",
    "stemmer=SnowballStemmer('english')\n",
    "\n",
    "for i in range(len(sentences)):\n",
    "    words=word_tokenize(sentences[i].lower())\n",
    "    words=[stemmer.stem(word) for word in words if word not in stopwords.words('english')]\n",
    "    sentences[i]=' '.join(words)\n",
    "\n",
    "sentences\n"
   ]
  },
  {
   "cell_type": "markdown",
   "id": "c524773d",
   "metadata": {},
   "source": [
    "### 3\\. Lemmatization\n",
    "\n",
    "**Lemmatization** is a more sophisticated process than stemming. It reduces a word to its **lemma**, which is a grammatically correct base form of the word. For this, it uses a vocabulary and morphological analysis, which makes it more accurate but also slower than stemming. The lemma of \"better\" is \"good,\" and \"mice\" is \"mouse.\"\n",
    "\n",
    "#### Combining Stopword Removal with Lemmatization\n",
    "\n",
    "NLTK's **WordNetLemmatizer** is the primary tool for lemmatization. You should also ensure words are converted to lowercase before processing to avoid duplicates."
   ]
  },
  {
   "cell_type": "code",
   "execution_count": 21,
   "id": "84429858",
   "metadata": {},
   "outputs": [
    {
     "data": {
      "text/plain": [
       "['three vision india .',\n",
       " '3000 year histori , peopl world come invad u , captur land , conquer mind .',\n",
       " 'alexand onward , greek , turk , mogul , portugu , british , french , dutch , came loot u , took .',\n",
       " 'yet done nation .',\n",
       " 'conquer anyon .',\n",
       " 'grab land , cultur , histori tri enforc way life .',\n",
       " 'whi ?',\n",
       " 'becau respect freedom others.that first vision freedom .',\n",
       " 'believ india got first vision 1857 , start war independ .',\n",
       " 'freedom must protect nurtur build .',\n",
       " 'free , one respect u .',\n",
       " 'second vision india ’ develop .',\n",
       " 'fifti year develop nation .',\n",
       " 'time see develop nation .',\n",
       " 'among top 5 nation world term gdp .',\n",
       " '10 percent growth rate area .',\n",
       " 'poverti level fall .',\n",
       " 'achiev global recogni today .',\n",
       " 'yet lack self-confid see develop nation , self-r self-assur .',\n",
       " '’ incorrect ?',\n",
       " 'third vision .',\n",
       " 'india must stand world .',\n",
       " 'becau believ unless india stand world , one respect u .',\n",
       " 'strength respect strength .',\n",
       " 'must strong militari power also econom power .',\n",
       " 'must go hand-in-hand .',\n",
       " 'good fortun work three great mind .',\n",
       " 'dr. vikram sarabhai dept .',\n",
       " 'space , professor satish dhawan , succeed dr. brahm prakash , father nuclear materi .',\n",
       " 'lucki work three close consid great opportun life .',\n",
       " 'see four mileston career']"
      ]
     },
     "execution_count": 21,
     "metadata": {},
     "output_type": "execute_result"
    }
   ],
   "source": [
    "from nltk.stem import WordNetLemmatizer\n",
    "from nltk.tokenize import word_tokenize\n",
    "\n",
    "\n",
    "lemmatizer=WordNetLemmatizer()\n",
    "\n",
    "for i in range(len(sentences)):\n",
    "    words=word_tokenize(sentences[i].lower())\n",
    "    words=[lemmatizer.lemmatize(word) for word in words if word not in stopwords.words('english')]\n",
    "    sentences[i]=' '.join(words)\n",
    "\n",
    "sentences\n"
   ]
  }
 ],
 "metadata": {
  "kernelspec": {
   "display_name": "base",
   "language": "python",
   "name": "python3"
  },
  "language_info": {
   "codemirror_mode": {
    "name": "ipython",
    "version": 3
   },
   "file_extension": ".py",
   "mimetype": "text/x-python",
   "name": "python",
   "nbconvert_exporter": "python",
   "pygments_lexer": "ipython3",
   "version": "3.12.7"
  }
 },
 "nbformat": 4,
 "nbformat_minor": 5
}
