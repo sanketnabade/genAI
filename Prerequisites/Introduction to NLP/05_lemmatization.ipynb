{
 "cells": [
  {
   "cell_type": "markdown",
   "id": "bbac4f69",
   "metadata": {},
   "source": [
    "### What is Lemmatization?\n",
    "\n",
    "**Lemmatization** is a text preprocessing technique similar to stemming, but with a key difference: it reduces a word to its **lemma**, or root form, which is always a **valid word**. Unlike stemming, which uses algorithmic rules to chop off suffixes and might produce a non-existent word, lemmatization uses a dictionary-based approach to find the correct, grammatically meaningful root. For example, \"goes\" becomes \"go,\" and \"better\" becomes \"good.\""
   ]
  },
  {
   "cell_type": "markdown",
   "id": "bd51e6e5",
   "metadata": {},
   "source": [
    "### Lemmatization with NLTK\n",
    "\n",
    "The NLTK library provides the **`WordNetLemmatizer`** class for this purpose. This class uses the WordNet corpus, a large lexical database of English, to find the correct lemma for a word.\n"
   ]
  },
  {
   "cell_type": "markdown",
   "id": "5cd21616",
   "metadata": {},
   "source": [
    "#### Using the `WordNetLemmatizer`\n",
    "\n",
    "The `lemmatize()` function takes two arguments: the **word** itself and its **part-of-speech (POS)** tag. By default, the POS tag is set to **'n'** (for noun)."
   ]
  },
  {
   "cell_type": "code",
   "execution_count": 9,
   "id": "aea9fa54",
   "metadata": {},
   "outputs": [],
   "source": [
    "words = [\"eating\", \"eats\", \"eaten\", \"writing\", \"writes\", \"programming\", \"programs\", \"history\", \"finally\", \"finalized\"]"
   ]
  },
  {
   "cell_type": "code",
   "execution_count": null,
   "id": "83a0ba80",
   "metadata": {},
   "outputs": [
    {
     "name": "stderr",
     "output_type": "stream",
     "text": [
      "[nltk_data] Downloading package wordnet to\n",
      "[nltk_data]     C:\\Users\\sai\\AppData\\Roaming\\nltk_data...\n",
      "[nltk_data]   Package wordnet is already up-to-date!\n"
     ]
    },
    {
     "data": {
      "text/plain": [
       "True"
      ]
     },
     "execution_count": 12,
     "metadata": {},
     "output_type": "execute_result"
    }
   ],
   "source": [
    "import nltk\n",
    "from nltk.stem import WordNetLemmatizer\n",
    "\n",
    "# Download the WordNet corpus if you haven't already\n",
    "nltk.download('wordnet')"
   ]
  },
  {
   "cell_type": "code",
   "execution_count": 13,
   "id": "1fc5cc27",
   "metadata": {},
   "outputs": [
    {
     "name": "stdout",
     "output_type": "stream",
     "text": [
      "'eating' (default): eating\n",
      "'goes' (default):   go\n",
      "'eating' (verb):    eat\n",
      "'goes' (verb):      go\n"
     ]
    }
   ],
   "source": [
    "lemmatizer = WordNetLemmatizer()\n",
    "\n",
    "# Default behavior: POS is 'n' (noun)\n",
    "print(f\"'eating' (default): {lemmatizer.lemmatize('eating')}\")\n",
    "print(f\"'goes' (default):   {lemmatizer.lemmatize('goes')}\")\n",
    "\n",
    "# Specifying the POS tag 'v' (verb)\n",
    "print(f\"'eating' (verb):    {lemmatizer.lemmatize('eating', pos='v')}\")\n",
    "print(f\"'goes' (verb):      {lemmatizer.lemmatize('goes', pos='v')}\")"
   ]
  },
  {
   "cell_type": "markdown",
   "id": "ff69dac6",
   "metadata": {},
   "source": [
    "#### The Importance of POS Tags\n",
    "\n",
    "As shown in the example, the **POS tag is crucial** for accurate lemmatization. If you don't provide a POS tag, the lemmatizer might fail to reduce a word. For instance, \"eating\" is not a noun, so when treated as one, it remains unchanged. However, when you specify its POS as a verb, the lemmatizer correctly reduces it to \"eat.\"\n",
    "\n",
    "The commonly used POS tags are:\n",
    "\n",
    "  * **'n'**: Noun\n",
    "  * **'v'**: Verb\n",
    "  * **'a'**: Adjective\n",
    "  * **'r'**: Adverb\n",
    "\n",
    "Let's see this in a more comprehensive example:"
   ]
  },
  {
   "cell_type": "code",
   "execution_count": 14,
   "id": "0dc6e837",
   "metadata": {},
   "outputs": [
    {
     "name": "stdout",
     "output_type": "stream",
     "text": [
      "--- Lemmatizing with default POS ('n') ---\n",
      "eating       -> eating\n",
      "eats         -> eats\n",
      "eaten        -> eaten\n",
      "writing      -> writing\n",
      "writes       -> writes\n",
      "programming  -> programming\n",
      "programs     -> program\n",
      "history      -> history\n",
      "finally      -> finally\n",
      "finalized    -> finalized\n",
      "\n",
      "--- Lemmatizing with POS as verb ('v') ---\n",
      "eating       -> eat\n",
      "eats         -> eat\n",
      "eaten        -> eat\n",
      "writing      -> write\n",
      "writes       -> write\n",
      "programming  -> program\n",
      "programs     -> program\n",
      "history      -> history\n",
      "finally      -> finally\n",
      "finalized    -> finalize\n"
     ]
    }
   ],
   "source": [
    "print(\"--- Lemmatizing with default POS ('n') ---\")\n",
    "for word in words:\n",
    "    print(f\"{word:<12} -> {lemmatizer.lemmatize(word)}\")\n",
    "\n",
    "print(\"\\n--- Lemmatizing with POS as verb ('v') ---\")\n",
    "for word in words:\n",
    "    print(f\"{word:<12} -> {lemmatizer.lemmatize(word, pos='v')}\")"
   ]
  },
  {
   "cell_type": "markdown",
   "id": "447c48b7",
   "metadata": {},
   "source": [
    "### Lemmatization vs. Stemming:\n",
    "\n",
    "| Feature | **Stemming** | **Lemmatization** |\n",
    "| :--- | :--- | :--- |\n",
    "| **Method** | Algorithmic rules | Dictionary-based (e.g., WordNet) |\n",
    "| **Output** | A **stem** (may not be a valid word) | A **lemma** (a valid word) |\n",
    "| **Accuracy** | Lower; can produce incorrect results | Higher; context-aware |\n",
    "| **Speed** | Faster; computationally less expensive | Slower; requires looking up words |\n",
    "| **Use Case** | Information retrieval, simpler text analysis | Chatbots, summarization, or where grammatical correctness is critical |"
   ]
  },
  {
   "cell_type": "markdown",
   "id": "531abe4e",
   "metadata": {},
   "source": [
    "### Use Cases and Performance\n",
    "\n",
    "**Lemmatization** is a vital step in pipelines where preserving the original meaning of a word is paramount, such as in **Q\\&A chatbots** and **text summarization**. Since it uses a dictionary to perform the lookup, it is **slower** than stemming. This trade-off between speed and accuracy is an important consideration when building an NLP application."
   ]
  }
 ],
 "metadata": {
  "kernelspec": {
   "display_name": "base",
   "language": "python",
   "name": "python3"
  },
  "language_info": {
   "codemirror_mode": {
    "name": "ipython",
    "version": 3
   },
   "file_extension": ".py",
   "mimetype": "text/x-python",
   "name": "python",
   "nbconvert_exporter": "python",
   "pygments_lexer": "ipython3",
   "version": "3.12.7"
  }
 },
 "nbformat": 4,
 "nbformat_minor": 5
}
